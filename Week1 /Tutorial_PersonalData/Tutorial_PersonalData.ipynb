{
 "cells": [
  {
   "cell_type": "markdown",
   "id": "f413f4ea",
   "metadata": {},
   "source": [
    "# Tutorial: Personal Data\n",
    "\n",
    "by Katharina Dost, University of Auckland"
   ]
  },
  {
   "cell_type": "markdown",
   "id": "b6e226da",
   "metadata": {},
   "source": [
    "![Image](https://betterimagesofai.org/ImagesAI/jamillah-knowles_data-people_3952x2472.jpg?nf_resize=fit&w=1200&q=75)\n",
    "[**Source:** <span><a href=\"https://www.jemimahknightstudio.com/work/ai\">Jamillah Knowles</a> / <a href=\"https://www.betterimagesofai.org\">Better Images of AI</a> / Data People / <a href=\"https://creativecommons.org/licenses/by/4.0/\">Licenced by CC-BY 4.0</a></span>]"
   ]
  },
  {
   "cell_type": "markdown",
   "id": "83064738",
   "metadata": {},
   "source": [
    "---"
   ]
  },
  {
   "cell_type": "code",
   "execution_count": 3,
   "id": "c2a21c8f",
   "metadata": {
    "scrolled": true
   },
   "outputs": [],
   "source": [
    "import warnings\n",
    "warnings.simplefilter(action='ignore', category=FutureWarning)\n",
    "\n",
    "import pandas as pd\n",
    "import numpy as np\n",
    "import hashlib\n",
    "import matplotlib.pyplot as plt\n",
    "import seaborn as sns\n",
    "from sklearn.decomposition import PCA\n",
    "from sklearn.model_selection import KFold\n",
    "from sklearn.model_selection import GridSearchCV\n",
    "from sklearn.ensemble import RandomForestClassifier\n",
    "from sklearn.pipeline import make_pipeline\n",
    "from sklearn.preprocessing import StandardScaler\n",
    "\n",
    "try:\n",
    "    from pycanon import anonymity, report\n",
    "except:\n",
    "    !pip install pycanon\n",
    "    from pycanon import anonymity, report\n",
    "    \n",
    "try:\n",
    "    from diffprivlib.models import RandomForestClassifier as RandomForestClassifier_dp\n",
    "except:\n",
    "    !pip install diffprivlib\n",
    "    from diffprivlib.models import RandomForestClassifier as RandomForestClassifier_dp\n",
    "    \n",
    "from diffprivlib.utils import PrivacyLeakWarning   \n",
    "warnings.simplefilter(action='ignore', category=PrivacyLeakWarning)"
   ]
  },
  {
   "cell_type": "markdown",
   "id": "52265d1c",
   "metadata": {},
   "source": [
    "---"
   ]
  },
  {
   "cell_type": "markdown",
   "id": "3de397cd",
   "metadata": {},
   "source": [
    "## Examples and Risks\n",
    "- Search history: What if I visit websites related to cancer, my insurance company learns about it and raises their rates?\n",
    "- Credit card fraud: What if someone could ask a large language model for my credit card details and steal money from me?\n",
    "- What if a burglar could connect easily connect my current vacation pictures with the information that I live alone and my address? [[read more](https://www.cnbc.com/2018/06/14/that-vacation-social-media-post-might-raise-the-risk-of-robbery.html)]\n",
    "- Lecture Evaluations: What if my lecturer can trace my negative feedback back to me and gives me a bad grade?\n",
    "- What if my medical history was openly known to, e.g., future employers?"
   ]
  },
  {
   "cell_type": "markdown",
   "id": "43781df6",
   "metadata": {},
   "source": [
    "---"
   ]
  },
  {
   "cell_type": "markdown",
   "id": "9997001b",
   "metadata": {},
   "source": [
    "## Privacy Attacks\n",
    "\n",
    "There is a large number of reasons for adversaries to gain access to raw data -- a few of them are discussed above. However, recently, attacks are often focussed on machine learning models trying to extract sensitive information from model outputs. [[read more](https://dl.acm.org/doi/10.1145/3624010)]\n",
    "\n",
    "Particularly, an adversary might want to use a trained model to:\n",
    "- determine if a specific input sample was used for training or not. This type of \"attack\" can also be seen from a different perspective, for example, an artist might want to know if a generative model (such as DALL-E) used their artwork without authorization.\n",
    "- recover the entire training data \n",
    "- recover specific sensitive attributes of a targeted user from model outputs\n",
    "- extract dataset properties that were not directly encoded as features, for example, the gender ratio of a patient dataset even if it was not an attribute. This is an interesting approach to identify implicit bias in models."
   ]
  },
  {
   "cell_type": "markdown",
   "id": "aea820a2",
   "metadata": {},
   "source": [
    "---"
   ]
  },
  {
   "cell_type": "markdown",
   "id": "b23101ea",
   "metadata": {},
   "source": [
    "## What is personal information?\n",
    "> \"Personal information is any information that tells us something about a **specific individual**. The information does not need to name the individual, as long as they are identifiable in other ways, like through their home address. This means that all sorts of things can contain personal information, including notes, emails, recordings, photos, and scans, whether they are in hard copy or electronic form.\" [[Source](https://www.privacy.org.nz/responsibilities/your-obligations/)]\n",
    "\n",
    "For example, the following table contains personal data:"
   ]
  },
  {
   "cell_type": "markdown",
   "id": "24600178",
   "metadata": {},
   "source": [
    "**Table 1**\n",
    "| Customer ID | Age | Gender     | Occupation | Rating (1-5) | Feedback                              |\n",
    "|-------------|-----|------------|------------|--------------|---------------------------------------|\n",
    "| 001         | 35  | Female     | Engineer   | 4            | Great service!                        |\n",
    "| 002         | 28  | Male       | Teacher    | 3            | Average experience                    |\n",
    "| 003         | 42  | Male       | Doctor     | 5            | Excellent service, highly recommended|\n",
    "| 004         | 50  | Female     | Lawyer     | 2            | Disappointing, needs improvement     |\n",
    "| 005         | 31  | Non-binary | Student    | 4            | Very helpful staff                   |"
   ]
  },
  {
   "cell_type": "markdown",
   "id": "11416e3c",
   "metadata": {},
   "source": [
    "The following table does **not** contain personal data:"
   ]
  },
  {
   "cell_type": "markdown",
   "id": "51069616",
   "metadata": {},
   "source": [
    "**Table 2a**\n",
    "| Transaction ID | Date       | Product    | Quantity | Price  |\n",
    "|----------------|------------|------------|----------|--------|\n",
    "| 1001           | 2024-04-15 | Laptop     | 2        | \\$1200 |\n",
    "| 1002           | 2024-04-16 | Smartphone | 3        | \\$800  |\n",
    "| 1003           | 2024-04-17 | Headphones | 1        | \\$100  |\n",
    "| 1004           | 2024-04-18 | Tablet     | 1        | \\$500  |\n",
    "| 1005           | 2024-04-18 | Smartwatch | 2        | \\$300  |"
   ]
  },
  {
   "cell_type": "markdown",
   "id": "254ef8da",
   "metadata": {},
   "source": [
    "**Note:** The following table in in itself is *not* considered personal data:\n",
    "\n",
    "**Table 2b**\n",
    "| Customer ID | Transaction ID | Date       | Product    | Quantity | Price  |\n",
    "| ----------- |----------------|------------|------------|----------|--------|\n",
    "| 001         | 1001           | 2024-04-15 | Laptop     | 2        | \\$1200 |\n",
    "| 001         | 1002           | 2024-04-16 | Smartphone | 3        | \\$800  |\n",
    "| 002         | 1003           | 2024-04-17 | Headphones | 1        | \\$100  |\n",
    "| 003         | 1004           | 2024-04-18 | Tablet     | 1        | \\$500  |\n",
    "| 003         | 1005           | 2024-04-18 | Smartwatch | 2        | \\$300  |\n",
    "\n",
    "However, if the customer IDs correspond to the ones in the Table 1, the transactions can be traced back to individuals and both tables together *are* considered personal data."
   ]
  },
  {
   "cell_type": "markdown",
   "id": "b289a289",
   "metadata": {},
   "source": [
    "---"
   ]
  },
  {
   "cell_type": "markdown",
   "id": "7f3f457a",
   "metadata": {},
   "source": [
    "## Legal Frame\n",
    "\n",
    "### New Zealand\n",
    "\n",
    "In New Zealand, the [Privacy Act 2020](https://www.legislation.govt.nz/act/public/2020/0031/latest/LMS23223.html) rules how personal data can be collected, stored, used and shared. It applies to any person, organization, or business that collects and holds personal data. The only exceptions are courts and tribunals during judicial tasks, news media when gathering and reporting news, and members of the parliament acting in an official capacity [[Source](https://www.privacy.org.nz/responsibilities/your-obligations/)].\n",
    "\n",
    "Every person has a right their personal information being **protected and respected** [[Source](https://www.privacy.org.nz/your-rights/your-privacy-rights/)]. This includes:\n",
    "- they know when and why their information is collected\n",
    "- their information is used and shared appropriately\n",
    "- their information is kept safe and secure\n",
    "- they can access the information and organization holds about them.\n",
    "\n",
    "As an upcoming AI engineer / data scientist / machine learning expert / etc., you have a **responsibility to ensure these rights are met**. \n",
    "\n",
    "The Privacy Act has [13 privacy principles](https://www.privacy.org.nz/assets/New-order/Your-responsibilities/Privacy-resources-for-organisations/2020-A-quick-tour-of-the-privacy-principles-Oct-2020.pdf) on how to collect, handle, and use personal information. \n",
    "The university supports you with collecting data ([[Ethics Approval](https://www.auckland.ac.nz/en/research/about-our-research/human-ethics.html)] and handling data [[Planning research data storage](https://research-hub.auckland.ac.nz/guide-to-managing-research-data/research-data-management-or-storage-compute-and-analysis/research-data-management-plan-and-document-storage-and-analysis)]. \n",
    "\n",
    "### Other Countries\n",
    "\n",
    "Other countries have their own regulations. Check carefully depending on your location and context. \n",
    "For example, there are a number of \n",
    "[Data Privacy Protection Laws](https://www.forbes.com/sites/conormurray/2023/04/21/us-data-privacy-protection-laws-a-comprehensive-guide/?sh=33d6e10c5f92) in the United States, \n",
    "the European [Right to be Forgotten](https://gdpr-info.eu/issues/right-to-be-forgotten/), and \n",
    "the European [General Data Protection Regulation (GDPR)](https://gdpr-info.eu/). "
   ]
  },
  {
   "cell_type": "markdown",
   "id": "2990905f",
   "metadata": {},
   "source": [
    "---"
   ]
  },
  {
   "cell_type": "markdown",
   "id": "276fd739",
   "metadata": {},
   "source": [
    "## Example Dataset: Titanic\n",
    "\n",
    "![Image](https://cdn.pixabay.com/photo/2021/03/04/16/43/ship-6068737_960_720.png)\n",
    "\n",
    "The Titanic was a British passenger liner that tragically sank on its maiden voyage in 1912 after colliding with an iceberg, resulting in one of the deadliest maritime disasters in history.\n",
    "\n",
    "We use a dataset taken from [Kaggle](https://www.kaggle.com/competitions/titanic/overview) that lists the Titanic's passengers and if they survived the disaster. We are using the training dataset only here. You can download it either from Kaggle directly or Canvas.\n",
    "\n",
    "You will find the following columns in the dataset:\n",
    "| Column | Definition | Key |\n",
    "| ------ | ---------- | --- |\n",
    "| PassengerId         | Passenger identifier |  |\n",
    "| Survived         | Target label: Survival | 0 = No, 1 = Yes |\n",
    "| Pclass         | Ticket class (a proxy for socio-economic status)          | 1 = 1st, 2 = 2nd, 3 = 3rd |\n",
    "| Name         | Passenger name           | |\n",
    "| Sex         | Sex           |  |\n",
    "| Age         | Age in years           | |\n",
    "| SibSp         | \\# of siblings / spouses aboard the Titanic         | |\n",
    "| Parch         | \\# of parents / children aboard the Titanic           | |\n",
    "| Ticket         | Ticket number           | |\n",
    "| Fare         | Passenger fare         | |\n",
    "| Cabin         | Cabin number          | |\n",
    "| Embarked         | Port of Embarkation          | C = Cherbourg, Q = Queenstown, S = Southampton|"
   ]
  },
  {
   "cell_type": "code",
   "execution_count": 4,
   "id": "9b364ab5",
   "metadata": {},
   "outputs": [
    {
     "data": {
      "text/html": [
       "<div>\n",
       "<style scoped>\n",
       "    .dataframe tbody tr th:only-of-type {\n",
       "        vertical-align: middle;\n",
       "    }\n",
       "\n",
       "    .dataframe tbody tr th {\n",
       "        vertical-align: top;\n",
       "    }\n",
       "\n",
       "    .dataframe thead th {\n",
       "        text-align: right;\n",
       "    }\n",
       "</style>\n",
       "<table border=\"1\" class=\"dataframe\">\n",
       "  <thead>\n",
       "    <tr style=\"text-align: right;\">\n",
       "      <th></th>\n",
       "      <th>PassengerId</th>\n",
       "      <th>Survived</th>\n",
       "      <th>Pclass</th>\n",
       "      <th>Name</th>\n",
       "      <th>Sex</th>\n",
       "      <th>Age</th>\n",
       "      <th>SibSp</th>\n",
       "      <th>Parch</th>\n",
       "      <th>Ticket</th>\n",
       "      <th>Fare</th>\n",
       "      <th>Cabin</th>\n",
       "      <th>Embarked</th>\n",
       "    </tr>\n",
       "  </thead>\n",
       "  <tbody>\n",
       "    <tr>\n",
       "      <th>0</th>\n",
       "      <td>1</td>\n",
       "      <td>0</td>\n",
       "      <td>3</td>\n",
       "      <td>Braund, Mr. Owen Harris</td>\n",
       "      <td>male</td>\n",
       "      <td>22.0</td>\n",
       "      <td>1</td>\n",
       "      <td>0</td>\n",
       "      <td>A/5 21171</td>\n",
       "      <td>7.2500</td>\n",
       "      <td>NaN</td>\n",
       "      <td>S</td>\n",
       "    </tr>\n",
       "    <tr>\n",
       "      <th>1</th>\n",
       "      <td>2</td>\n",
       "      <td>1</td>\n",
       "      <td>1</td>\n",
       "      <td>Cumings, Mrs. John Bradley (Florence Briggs Th...</td>\n",
       "      <td>female</td>\n",
       "      <td>38.0</td>\n",
       "      <td>1</td>\n",
       "      <td>0</td>\n",
       "      <td>PC 17599</td>\n",
       "      <td>71.2833</td>\n",
       "      <td>C85</td>\n",
       "      <td>C</td>\n",
       "    </tr>\n",
       "    <tr>\n",
       "      <th>2</th>\n",
       "      <td>3</td>\n",
       "      <td>1</td>\n",
       "      <td>3</td>\n",
       "      <td>Heikkinen, Miss. Laina</td>\n",
       "      <td>female</td>\n",
       "      <td>26.0</td>\n",
       "      <td>0</td>\n",
       "      <td>0</td>\n",
       "      <td>STON/O2. 3101282</td>\n",
       "      <td>7.9250</td>\n",
       "      <td>NaN</td>\n",
       "      <td>S</td>\n",
       "    </tr>\n",
       "    <tr>\n",
       "      <th>3</th>\n",
       "      <td>4</td>\n",
       "      <td>1</td>\n",
       "      <td>1</td>\n",
       "      <td>Futrelle, Mrs. Jacques Heath (Lily May Peel)</td>\n",
       "      <td>female</td>\n",
       "      <td>35.0</td>\n",
       "      <td>1</td>\n",
       "      <td>0</td>\n",
       "      <td>113803</td>\n",
       "      <td>53.1000</td>\n",
       "      <td>C123</td>\n",
       "      <td>S</td>\n",
       "    </tr>\n",
       "    <tr>\n",
       "      <th>4</th>\n",
       "      <td>5</td>\n",
       "      <td>0</td>\n",
       "      <td>3</td>\n",
       "      <td>Allen, Mr. William Henry</td>\n",
       "      <td>male</td>\n",
       "      <td>35.0</td>\n",
       "      <td>0</td>\n",
       "      <td>0</td>\n",
       "      <td>373450</td>\n",
       "      <td>8.0500</td>\n",
       "      <td>NaN</td>\n",
       "      <td>S</td>\n",
       "    </tr>\n",
       "    <tr>\n",
       "      <th>...</th>\n",
       "      <td>...</td>\n",
       "      <td>...</td>\n",
       "      <td>...</td>\n",
       "      <td>...</td>\n",
       "      <td>...</td>\n",
       "      <td>...</td>\n",
       "      <td>...</td>\n",
       "      <td>...</td>\n",
       "      <td>...</td>\n",
       "      <td>...</td>\n",
       "      <td>...</td>\n",
       "      <td>...</td>\n",
       "    </tr>\n",
       "    <tr>\n",
       "      <th>886</th>\n",
       "      <td>887</td>\n",
       "      <td>0</td>\n",
       "      <td>2</td>\n",
       "      <td>Montvila, Rev. Juozas</td>\n",
       "      <td>male</td>\n",
       "      <td>27.0</td>\n",
       "      <td>0</td>\n",
       "      <td>0</td>\n",
       "      <td>211536</td>\n",
       "      <td>13.0000</td>\n",
       "      <td>NaN</td>\n",
       "      <td>S</td>\n",
       "    </tr>\n",
       "    <tr>\n",
       "      <th>887</th>\n",
       "      <td>888</td>\n",
       "      <td>1</td>\n",
       "      <td>1</td>\n",
       "      <td>Graham, Miss. Margaret Edith</td>\n",
       "      <td>female</td>\n",
       "      <td>19.0</td>\n",
       "      <td>0</td>\n",
       "      <td>0</td>\n",
       "      <td>112053</td>\n",
       "      <td>30.0000</td>\n",
       "      <td>B42</td>\n",
       "      <td>S</td>\n",
       "    </tr>\n",
       "    <tr>\n",
       "      <th>888</th>\n",
       "      <td>889</td>\n",
       "      <td>0</td>\n",
       "      <td>3</td>\n",
       "      <td>Johnston, Miss. Catherine Helen \"Carrie\"</td>\n",
       "      <td>female</td>\n",
       "      <td>NaN</td>\n",
       "      <td>1</td>\n",
       "      <td>2</td>\n",
       "      <td>W./C. 6607</td>\n",
       "      <td>23.4500</td>\n",
       "      <td>NaN</td>\n",
       "      <td>S</td>\n",
       "    </tr>\n",
       "    <tr>\n",
       "      <th>889</th>\n",
       "      <td>890</td>\n",
       "      <td>1</td>\n",
       "      <td>1</td>\n",
       "      <td>Behr, Mr. Karl Howell</td>\n",
       "      <td>male</td>\n",
       "      <td>26.0</td>\n",
       "      <td>0</td>\n",
       "      <td>0</td>\n",
       "      <td>111369</td>\n",
       "      <td>30.0000</td>\n",
       "      <td>C148</td>\n",
       "      <td>C</td>\n",
       "    </tr>\n",
       "    <tr>\n",
       "      <th>890</th>\n",
       "      <td>891</td>\n",
       "      <td>0</td>\n",
       "      <td>3</td>\n",
       "      <td>Dooley, Mr. Patrick</td>\n",
       "      <td>male</td>\n",
       "      <td>32.0</td>\n",
       "      <td>0</td>\n",
       "      <td>0</td>\n",
       "      <td>370376</td>\n",
       "      <td>7.7500</td>\n",
       "      <td>NaN</td>\n",
       "      <td>Q</td>\n",
       "    </tr>\n",
       "  </tbody>\n",
       "</table>\n",
       "<p>891 rows × 12 columns</p>\n",
       "</div>"
      ],
      "text/plain": [
       "     PassengerId  Survived  Pclass  \\\n",
       "0              1         0       3   \n",
       "1              2         1       1   \n",
       "2              3         1       3   \n",
       "3              4         1       1   \n",
       "4              5         0       3   \n",
       "..           ...       ...     ...   \n",
       "886          887         0       2   \n",
       "887          888         1       1   \n",
       "888          889         0       3   \n",
       "889          890         1       1   \n",
       "890          891         0       3   \n",
       "\n",
       "                                                  Name     Sex   Age  SibSp  \\\n",
       "0                              Braund, Mr. Owen Harris    male  22.0      1   \n",
       "1    Cumings, Mrs. John Bradley (Florence Briggs Th...  female  38.0      1   \n",
       "2                               Heikkinen, Miss. Laina  female  26.0      0   \n",
       "3         Futrelle, Mrs. Jacques Heath (Lily May Peel)  female  35.0      1   \n",
       "4                             Allen, Mr. William Henry    male  35.0      0   \n",
       "..                                                 ...     ...   ...    ...   \n",
       "886                              Montvila, Rev. Juozas    male  27.0      0   \n",
       "887                       Graham, Miss. Margaret Edith  female  19.0      0   \n",
       "888           Johnston, Miss. Catherine Helen \"Carrie\"  female   NaN      1   \n",
       "889                              Behr, Mr. Karl Howell    male  26.0      0   \n",
       "890                                Dooley, Mr. Patrick    male  32.0      0   \n",
       "\n",
       "     Parch            Ticket     Fare Cabin Embarked  \n",
       "0        0         A/5 21171   7.2500   NaN        S  \n",
       "1        0          PC 17599  71.2833   C85        C  \n",
       "2        0  STON/O2. 3101282   7.9250   NaN        S  \n",
       "3        0            113803  53.1000  C123        S  \n",
       "4        0            373450   8.0500   NaN        S  \n",
       "..     ...               ...      ...   ...      ...  \n",
       "886      0            211536  13.0000   NaN        S  \n",
       "887      0            112053  30.0000   B42        S  \n",
       "888      2        W./C. 6607  23.4500   NaN        S  \n",
       "889      0            111369  30.0000  C148        C  \n",
       "890      0            370376   7.7500   NaN        Q  \n",
       "\n",
       "[891 rows x 12 columns]"
      ]
     },
     "execution_count": 4,
     "metadata": {},
     "output_type": "execute_result"
    }
   ],
   "source": [
    "# Have a look at the dataset\n",
    "df = pd.read_csv('titanic_train_dataset.csv')\n",
    "df"
   ]
  },
  {
   "cell_type": "code",
   "execution_count": 5,
   "id": "ff095392",
   "metadata": {},
   "outputs": [],
   "source": [
    "# let's make sure we do not lose sight of missing values\n",
    "df = df.fillna(-1)"
   ]
  },
  {
   "cell_type": "markdown",
   "id": "50686549",
   "metadata": {},
   "source": [
    "---"
   ]
  },
  {
   "cell_type": "markdown",
   "id": "3b90cf91",
   "metadata": {},
   "source": [
    "## Turning Personal Data into Non-Personal Data\n",
    "\n",
    "The Privacy Act (or international equivalents) applies to *personal* data. If we ensure the definition for personal data no longer applies, the Privacy Act no longer applies. This grants us more freedom to work with the data. *Ethical considerations still apply!*\n",
    "\n",
    "**Reminder: Definition \"Personal Information\"**\n",
    "> \"Personal information is any information that tells us something about a **specific individual**. The information does not need to name the individual, as long as they are identifiable in other ways, like through their home address. This means that all sorts of things can contain personal information, including notes, emails, recordings, photos, and scans, whether they are in hard copy or electronic form.\" [[Source](https://www.privacy.org.nz/responsibilities/your-obligations/)]\n",
    "\n",
    "There are two types of identifiers:\n",
    "1. *direct identifiers* that directly identify an individual, such as their name, address, telephone number, photograph, image, fingerprints, etc., and\n",
    "2. *indirect identifiers* that can be combined with other information to identify an individual, such as all female students in the classroom whose birthday is in May that belong to a specific race or have a specific hair color..... These indirect identifiers are often referred to as *quasi-identifiers*."
   ]
  },
  {
   "cell_type": "code",
   "execution_count": 6,
   "id": "2ae6d8cf",
   "metadata": {},
   "outputs": [],
   "source": [
    "# create a new dataframe that shall contain the anonymized data later\n",
    "df_anon = df.copy()"
   ]
  },
  {
   "cell_type": "markdown",
   "id": "29cf890f",
   "metadata": {},
   "source": [
    "---"
   ]
  },
  {
   "cell_type": "markdown",
   "id": "71d3bc36",
   "metadata": {},
   "source": [
    "### 1. Dealing with direct identifiers"
   ]
  },
  {
   "cell_type": "markdown",
   "id": "354f2ad9",
   "metadata": {},
   "source": [
    "What are the direct identifiers in the Titanic dataset?\n",
    "\n",
    "\n",
    "<details>\n",
    "<summary> (*click* here to reveal the answer) </summary>\n",
    "\n",
    "**Name** is a direct identifier (unless, e.g., only people called \"John Smith\" were allowed to board the ship). This is a global identifier that can be found in other datasets, too, making this information particularly vulnerable. In New Zealand, you cannot use such identifiers according to [Privacy Act, Principle 14](https://www.privacy.org.nz/privacy-act-2020/privacy-principles/13/).\n",
    "    \n",
    "**Ticket** is a direct identifier if there exists another table linking ticket purchases to individuals. If it only exists in this table, it is okay.\n",
    "    \n",
    "Similarly, **Cabin** can be a direct identifier, if there exists another table linking it to, for example, the passenger's name. \n",
    "    \n",
    "**PassengerID** can be a direct identifier, too, if there exists another table linking it to, for example, the passenger's name. \n",
    "</details>"
   ]
  },
  {
   "cell_type": "markdown",
   "id": "c4763556",
   "metadata": {},
   "source": [
    "#### 1.1 Hashing\n",
    "\n",
    "When in doubt about the identifiers in your dataset you can use a one-way [hash function](https://en.wikipedia.org/wiki/Hash_function) using the [hashlib package](https://docs.python.org/3/library/hashlib.html) to create unique identifiers from direct identifiers that cannot be traced back to the direct identifiers. \n",
    "\n",
    "**If you have to**, you can create a table or dictionary to store the mapping from direct identifier to hashed identifier. Keep in mind that this table/dictionary *is sensitive* and needs to be safe-guarded."
   ]
  },
  {
   "cell_type": "code",
   "execution_count": 7,
   "id": "2199abaf",
   "metadata": {},
   "outputs": [
    {
     "data": {
      "text/html": [
       "<div>\n",
       "<style scoped>\n",
       "    .dataframe tbody tr th:only-of-type {\n",
       "        vertical-align: middle;\n",
       "    }\n",
       "\n",
       "    .dataframe tbody tr th {\n",
       "        vertical-align: top;\n",
       "    }\n",
       "\n",
       "    .dataframe thead th {\n",
       "        text-align: right;\n",
       "    }\n",
       "</style>\n",
       "<table border=\"1\" class=\"dataframe\">\n",
       "  <thead>\n",
       "    <tr style=\"text-align: right;\">\n",
       "      <th></th>\n",
       "      <th>PassengerId</th>\n",
       "      <th>Survived</th>\n",
       "      <th>Pclass</th>\n",
       "      <th>Name</th>\n",
       "      <th>Sex</th>\n",
       "      <th>Age</th>\n",
       "      <th>SibSp</th>\n",
       "      <th>Parch</th>\n",
       "      <th>Ticket</th>\n",
       "      <th>Fare</th>\n",
       "      <th>Cabin</th>\n",
       "      <th>Embarked</th>\n",
       "      <th>HashID</th>\n",
       "    </tr>\n",
       "  </thead>\n",
       "  <tbody>\n",
       "    <tr>\n",
       "      <th>0</th>\n",
       "      <td>1</td>\n",
       "      <td>0</td>\n",
       "      <td>3</td>\n",
       "      <td>Braund, Mr. Owen Harris</td>\n",
       "      <td>male</td>\n",
       "      <td>22.0</td>\n",
       "      <td>1</td>\n",
       "      <td>0</td>\n",
       "      <td>A/5 21171</td>\n",
       "      <td>7.2500</td>\n",
       "      <td>-1</td>\n",
       "      <td>S</td>\n",
       "      <td>6c969dc7</td>\n",
       "    </tr>\n",
       "    <tr>\n",
       "      <th>1</th>\n",
       "      <td>2</td>\n",
       "      <td>1</td>\n",
       "      <td>1</td>\n",
       "      <td>Cumings, Mrs. John Bradley (Florence Briggs Th...</td>\n",
       "      <td>female</td>\n",
       "      <td>38.0</td>\n",
       "      <td>1</td>\n",
       "      <td>0</td>\n",
       "      <td>PC 17599</td>\n",
       "      <td>71.2833</td>\n",
       "      <td>C85</td>\n",
       "      <td>C</td>\n",
       "      <td>f7ad2d69</td>\n",
       "    </tr>\n",
       "    <tr>\n",
       "      <th>2</th>\n",
       "      <td>3</td>\n",
       "      <td>1</td>\n",
       "      <td>3</td>\n",
       "      <td>Heikkinen, Miss. Laina</td>\n",
       "      <td>female</td>\n",
       "      <td>26.0</td>\n",
       "      <td>0</td>\n",
       "      <td>0</td>\n",
       "      <td>STON/O2. 3101282</td>\n",
       "      <td>7.9250</td>\n",
       "      <td>-1</td>\n",
       "      <td>S</td>\n",
       "      <td>7eb1fa77</td>\n",
       "    </tr>\n",
       "    <tr>\n",
       "      <th>3</th>\n",
       "      <td>4</td>\n",
       "      <td>1</td>\n",
       "      <td>1</td>\n",
       "      <td>Futrelle, Mrs. Jacques Heath (Lily May Peel)</td>\n",
       "      <td>female</td>\n",
       "      <td>35.0</td>\n",
       "      <td>1</td>\n",
       "      <td>0</td>\n",
       "      <td>113803</td>\n",
       "      <td>53.1000</td>\n",
       "      <td>C123</td>\n",
       "      <td>S</td>\n",
       "      <td>c8a06e74</td>\n",
       "    </tr>\n",
       "    <tr>\n",
       "      <th>4</th>\n",
       "      <td>5</td>\n",
       "      <td>0</td>\n",
       "      <td>3</td>\n",
       "      <td>Allen, Mr. William Henry</td>\n",
       "      <td>male</td>\n",
       "      <td>35.0</td>\n",
       "      <td>0</td>\n",
       "      <td>0</td>\n",
       "      <td>373450</td>\n",
       "      <td>8.0500</td>\n",
       "      <td>-1</td>\n",
       "      <td>S</td>\n",
       "      <td>885e53ea</td>\n",
       "    </tr>\n",
       "  </tbody>\n",
       "</table>\n",
       "</div>"
      ],
      "text/plain": [
       "   PassengerId  Survived  Pclass  \\\n",
       "0            1         0       3   \n",
       "1            2         1       1   \n",
       "2            3         1       3   \n",
       "3            4         1       1   \n",
       "4            5         0       3   \n",
       "\n",
       "                                                Name     Sex   Age  SibSp  \\\n",
       "0                            Braund, Mr. Owen Harris    male  22.0      1   \n",
       "1  Cumings, Mrs. John Bradley (Florence Briggs Th...  female  38.0      1   \n",
       "2                             Heikkinen, Miss. Laina  female  26.0      0   \n",
       "3       Futrelle, Mrs. Jacques Heath (Lily May Peel)  female  35.0      1   \n",
       "4                           Allen, Mr. William Henry    male  35.0      0   \n",
       "\n",
       "   Parch            Ticket     Fare Cabin Embarked    HashID  \n",
       "0      0         A/5 21171   7.2500    -1        S  6c969dc7  \n",
       "1      0          PC 17599  71.2833   C85        C  f7ad2d69  \n",
       "2      0  STON/O2. 3101282   7.9250    -1        S  7eb1fa77  \n",
       "3      0            113803  53.1000  C123        S  c8a06e74  \n",
       "4      0            373450   8.0500    -1        S  885e53ea  "
      ]
     },
     "execution_count": 7,
     "metadata": {},
     "output_type": "execute_result"
    }
   ],
   "source": [
    "# create hashed IDs from 'Name' column\n",
    "df_anon['HashID'] = df_anon['Name'].apply(lambda x: hashlib.sha256(x.encode()).hexdigest()[:8])\n",
    "df_anon.head()"
   ]
  },
  {
   "cell_type": "code",
   "execution_count": 8,
   "id": "b9ce9dc2",
   "metadata": {},
   "outputs": [
    {
     "data": {
      "text/html": [
       "<div>\n",
       "<style scoped>\n",
       "    .dataframe tbody tr th:only-of-type {\n",
       "        vertical-align: middle;\n",
       "    }\n",
       "\n",
       "    .dataframe tbody tr th {\n",
       "        vertical-align: top;\n",
       "    }\n",
       "\n",
       "    .dataframe thead th {\n",
       "        text-align: right;\n",
       "    }\n",
       "</style>\n",
       "<table border=\"1\" class=\"dataframe\">\n",
       "  <thead>\n",
       "    <tr style=\"text-align: right;\">\n",
       "      <th></th>\n",
       "      <th>HashID</th>\n",
       "      <th>PassengerId</th>\n",
       "      <th>Name</th>\n",
       "      <th>Ticket</th>\n",
       "    </tr>\n",
       "  </thead>\n",
       "  <tbody>\n",
       "    <tr>\n",
       "      <th>0</th>\n",
       "      <td>6c969dc7</td>\n",
       "      <td>1</td>\n",
       "      <td>Braund, Mr. Owen Harris</td>\n",
       "      <td>A/5 21171</td>\n",
       "    </tr>\n",
       "    <tr>\n",
       "      <th>1</th>\n",
       "      <td>f7ad2d69</td>\n",
       "      <td>2</td>\n",
       "      <td>Cumings, Mrs. John Bradley (Florence Briggs Th...</td>\n",
       "      <td>PC 17599</td>\n",
       "    </tr>\n",
       "    <tr>\n",
       "      <th>2</th>\n",
       "      <td>7eb1fa77</td>\n",
       "      <td>3</td>\n",
       "      <td>Heikkinen, Miss. Laina</td>\n",
       "      <td>STON/O2. 3101282</td>\n",
       "    </tr>\n",
       "    <tr>\n",
       "      <th>3</th>\n",
       "      <td>c8a06e74</td>\n",
       "      <td>4</td>\n",
       "      <td>Futrelle, Mrs. Jacques Heath (Lily May Peel)</td>\n",
       "      <td>113803</td>\n",
       "    </tr>\n",
       "    <tr>\n",
       "      <th>4</th>\n",
       "      <td>885e53ea</td>\n",
       "      <td>5</td>\n",
       "      <td>Allen, Mr. William Henry</td>\n",
       "      <td>373450</td>\n",
       "    </tr>\n",
       "  </tbody>\n",
       "</table>\n",
       "</div>"
      ],
      "text/plain": [
       "     HashID  PassengerId                                               Name  \\\n",
       "0  6c969dc7            1                            Braund, Mr. Owen Harris   \n",
       "1  f7ad2d69            2  Cumings, Mrs. John Bradley (Florence Briggs Th...   \n",
       "2  7eb1fa77            3                             Heikkinen, Miss. Laina   \n",
       "3  c8a06e74            4       Futrelle, Mrs. Jacques Heath (Lily May Peel)   \n",
       "4  885e53ea            5                           Allen, Mr. William Henry   \n",
       "\n",
       "             Ticket  \n",
       "0         A/5 21171  \n",
       "1          PC 17599  \n",
       "2  STON/O2. 3101282  \n",
       "3            113803  \n",
       "4            373450  "
      ]
     },
     "execution_count": 8,
     "metadata": {},
     "output_type": "execute_result"
    }
   ],
   "source": [
    "# if you need to, create a table mapping HashID to sensitive information\n",
    "HashID_to_direct_identifiers = df_anon[['HashID', 'PassengerId', 'Name', 'Ticket']]\n",
    "HashID_to_direct_identifiers.head()\n",
    "\n",
    "# write this table to file and keep it safe!"
   ]
  },
  {
   "cell_type": "code",
   "execution_count": 9,
   "id": "adf96d5f",
   "metadata": {},
   "outputs": [],
   "source": [
    "# drop the direct identifiers\n",
    "df_anon = df_anon.drop(['PassengerId', 'Name', 'Ticket'], axis=1)"
   ]
  },
  {
   "cell_type": "markdown",
   "id": "76df3cc8",
   "metadata": {},
   "source": [
    "---"
   ]
  },
  {
   "cell_type": "markdown",
   "id": "dcd7a429",
   "metadata": {},
   "source": [
    "#### 1.2 Removing direct identifiers\n",
    "\n",
    "If you work on this table alone without the need to join it to another table, you can omit the direct identifiers entirely. "
   ]
  },
  {
   "cell_type": "code",
   "execution_count": 10,
   "id": "8610b317",
   "metadata": {
    "scrolled": true
   },
   "outputs": [
    {
     "data": {
      "text/html": [
       "<div>\n",
       "<style scoped>\n",
       "    .dataframe tbody tr th:only-of-type {\n",
       "        vertical-align: middle;\n",
       "    }\n",
       "\n",
       "    .dataframe tbody tr th {\n",
       "        vertical-align: top;\n",
       "    }\n",
       "\n",
       "    .dataframe thead th {\n",
       "        text-align: right;\n",
       "    }\n",
       "</style>\n",
       "<table border=\"1\" class=\"dataframe\">\n",
       "  <thead>\n",
       "    <tr style=\"text-align: right;\">\n",
       "      <th></th>\n",
       "      <th>Survived</th>\n",
       "      <th>Pclass</th>\n",
       "      <th>Sex</th>\n",
       "      <th>Age</th>\n",
       "      <th>SibSp</th>\n",
       "      <th>Parch</th>\n",
       "      <th>Fare</th>\n",
       "      <th>Cabin</th>\n",
       "      <th>Embarked</th>\n",
       "    </tr>\n",
       "  </thead>\n",
       "  <tbody>\n",
       "    <tr>\n",
       "      <th>0</th>\n",
       "      <td>0</td>\n",
       "      <td>3</td>\n",
       "      <td>male</td>\n",
       "      <td>22.0</td>\n",
       "      <td>1</td>\n",
       "      <td>0</td>\n",
       "      <td>7.2500</td>\n",
       "      <td>-1</td>\n",
       "      <td>S</td>\n",
       "    </tr>\n",
       "    <tr>\n",
       "      <th>1</th>\n",
       "      <td>1</td>\n",
       "      <td>1</td>\n",
       "      <td>female</td>\n",
       "      <td>38.0</td>\n",
       "      <td>1</td>\n",
       "      <td>0</td>\n",
       "      <td>71.2833</td>\n",
       "      <td>C85</td>\n",
       "      <td>C</td>\n",
       "    </tr>\n",
       "    <tr>\n",
       "      <th>2</th>\n",
       "      <td>1</td>\n",
       "      <td>3</td>\n",
       "      <td>female</td>\n",
       "      <td>26.0</td>\n",
       "      <td>0</td>\n",
       "      <td>0</td>\n",
       "      <td>7.9250</td>\n",
       "      <td>-1</td>\n",
       "      <td>S</td>\n",
       "    </tr>\n",
       "    <tr>\n",
       "      <th>3</th>\n",
       "      <td>1</td>\n",
       "      <td>1</td>\n",
       "      <td>female</td>\n",
       "      <td>35.0</td>\n",
       "      <td>1</td>\n",
       "      <td>0</td>\n",
       "      <td>53.1000</td>\n",
       "      <td>C123</td>\n",
       "      <td>S</td>\n",
       "    </tr>\n",
       "    <tr>\n",
       "      <th>4</th>\n",
       "      <td>0</td>\n",
       "      <td>3</td>\n",
       "      <td>male</td>\n",
       "      <td>35.0</td>\n",
       "      <td>0</td>\n",
       "      <td>0</td>\n",
       "      <td>8.0500</td>\n",
       "      <td>-1</td>\n",
       "      <td>S</td>\n",
       "    </tr>\n",
       "  </tbody>\n",
       "</table>\n",
       "</div>"
      ],
      "text/plain": [
       "   Survived  Pclass     Sex   Age  SibSp  Parch     Fare Cabin Embarked\n",
       "0         0       3    male  22.0      1      0   7.2500    -1        S\n",
       "1         1       1  female  38.0      1      0  71.2833   C85        C\n",
       "2         1       3  female  26.0      0      0   7.9250    -1        S\n",
       "3         1       1  female  35.0      1      0  53.1000  C123        S\n",
       "4         0       3    male  35.0      0      0   8.0500    -1        S"
      ]
     },
     "execution_count": 10,
     "metadata": {},
     "output_type": "execute_result"
    }
   ],
   "source": [
    "# drop the hashID\n",
    "df_anon = df_anon.drop(['HashID'], axis=1)\n",
    "df_anon.head()"
   ]
  },
  {
   "cell_type": "markdown",
   "id": "a302dba3",
   "metadata": {},
   "source": [
    "---"
   ]
  },
  {
   "cell_type": "markdown",
   "id": "8ebb53eb",
   "metadata": {},
   "source": [
    "#### 1.3 Aggregation\n",
    "\n",
    "Sometimes, there are column values that appear only once and therefore uniquely identify a person. For example:"
   ]
  },
  {
   "cell_type": "code",
   "execution_count": 11,
   "id": "a9a9e10a",
   "metadata": {},
   "outputs": [
    {
     "data": {
      "text/plain": [
       "<matplotlib.lines.Line2D at 0x1e07420c5d0>"
      ]
     },
     "execution_count": 11,
     "metadata": {},
     "output_type": "execute_result"
    },
    {
     "data": {
      "image/png": "[encoded data removed]",
      "text/plain": [
       "<Figure size 1200x300 with 1 Axes>"
      ]
     },
     "metadata": {},
     "output_type": "display_data"
    }
   ],
   "source": [
    "plt.figure(figsize=(12, 3))\n",
    "sns.histplot(data=df_anon, x='Age', bins=range(0, 80, 1), kde=False)\n",
    "plt.axhline(1, c='red')"
   ]
  },
  {
   "cell_type": "markdown",
   "id": "dee9671e",
   "metadata": {},
   "source": [
    "There are many ways to deal with this, and you need to choose which one makes the most sense in your scenario:\n",
    "- Delete the column (rarely useful)\n",
    "- Data masking: Introduce a masking key such as \"\\*\" and insert that into each entry that causes this identification problem (information loss, and sometimes, \"\\*\" can also single out individuals)\n",
    "- Aggregation: group values into categories (popular approach)"
   ]
  },
  {
   "cell_type": "code",
   "execution_count": 12,
   "id": "1148a834",
   "metadata": {},
   "outputs": [],
   "source": [
    "# Aggregation: Anonymize the age by grouping values\n",
    "bins = [-100, 0, 18, 30, 45, 100]\n",
    "labels = ['missing', '0-18', '19-30', '31-45', '45+']\n",
    "df_anon['Age'] = pd.cut(df_anon['Age'], bins=bins, labels=labels)"
   ]
  },
  {
   "cell_type": "code",
   "execution_count": 13,
   "id": "a41b6adc",
   "metadata": {},
   "outputs": [
    {
     "data": {
      "text/plain": [
       "<matplotlib.lines.Line2D at 0x1e075393e10>"
      ]
     },
     "execution_count": 13,
     "metadata": {},
     "output_type": "execute_result"
    },
    {
     "data": {
      "image/png": "[encoded data removed]",
      "text/plain": [
       "<Figure size 1200x300 with 1 Axes>"
      ]
     },
     "metadata": {},
     "output_type": "display_data"
    }
   ],
   "source": [
    "plt.figure(figsize=(12, 3))\n",
    "sns.histplot(data=df_anon, x='Age', bins=range(0, 80, 1), kde=False)\n",
    "plt.axhline(1, c='red')"
   ]
  },
  {
   "cell_type": "markdown",
   "id": "3cf15fc7",
   "metadata": {},
   "source": [
    "As we can see, the problem of singling someone out based on 'Age' has been solved.\n",
    "\n",
    "Another example for aggregation is the 'Cabin'. From a machine learning perspective, the cabin number itself will not inform the model well, but the floor on which it is situated may be a proxy for the traveler's social status. We can aggregate the cabins to retain only this information."
   ]
  },
  {
   "cell_type": "code",
   "execution_count": 14,
   "id": "636269a7",
   "metadata": {},
   "outputs": [],
   "source": [
    "# Aggregate 'Cabin' by extracting the first character\n",
    "df_anon['Cabin'] = df_anon['Cabin'].astype(str).str[0]"
   ]
  },
  {
   "cell_type": "code",
   "execution_count": 15,
   "id": "d8d25064",
   "metadata": {},
   "outputs": [
    {
     "data": {
      "text/plain": [
       "<matplotlib.lines.Line2D at 0x1e0774cccd0>"
      ]
     },
     "execution_count": 15,
     "metadata": {},
     "output_type": "execute_result"
    },
    {
     "data": {
      "image/png": "[encoded data removed]",
      "text/plain": [
       "<Figure size 1200x300 with 1 Axes>"
      ]
     },
     "metadata": {},
     "output_type": "display_data"
    }
   ],
   "source": [
    "plt.figure(figsize=(12, 3))\n",
    "sns.histplot(data=df_anon, x='Cabin', bins=range(0, 80, 1), kde=False)\n",
    "plt.axhline(1, c='red')"
   ]
  },
  {
   "cell_type": "markdown",
   "id": "fe12b432",
   "metadata": {},
   "source": [
    "We observe that this aggregation is not sufficient. If we had more information regarding the cabin, we could aggregate further in a meaningful way. Since we do not, we will drop the column."
   ]
  },
  {
   "cell_type": "code",
   "execution_count": 16,
   "id": "501b3891",
   "metadata": {},
   "outputs": [
    {
     "data": {
      "text/html": [
       "<div>\n",
       "<style scoped>\n",
       "    .dataframe tbody tr th:only-of-type {\n",
       "        vertical-align: middle;\n",
       "    }\n",
       "\n",
       "    .dataframe tbody tr th {\n",
       "        vertical-align: top;\n",
       "    }\n",
       "\n",
       "    .dataframe thead th {\n",
       "        text-align: right;\n",
       "    }\n",
       "</style>\n",
       "<table border=\"1\" class=\"dataframe\">\n",
       "  <thead>\n",
       "    <tr style=\"text-align: right;\">\n",
       "      <th></th>\n",
       "      <th>Survived</th>\n",
       "      <th>Pclass</th>\n",
       "      <th>Sex</th>\n",
       "      <th>Age</th>\n",
       "      <th>SibSp</th>\n",
       "      <th>Parch</th>\n",
       "      <th>Fare</th>\n",
       "      <th>Embarked</th>\n",
       "    </tr>\n",
       "  </thead>\n",
       "  <tbody>\n",
       "    <tr>\n",
       "      <th>0</th>\n",
       "      <td>0</td>\n",
       "      <td>3</td>\n",
       "      <td>male</td>\n",
       "      <td>19-30</td>\n",
       "      <td>1</td>\n",
       "      <td>0</td>\n",
       "      <td>7.2500</td>\n",
       "      <td>S</td>\n",
       "    </tr>\n",
       "    <tr>\n",
       "      <th>1</th>\n",
       "      <td>1</td>\n",
       "      <td>1</td>\n",
       "      <td>female</td>\n",
       "      <td>31-45</td>\n",
       "      <td>1</td>\n",
       "      <td>0</td>\n",
       "      <td>71.2833</td>\n",
       "      <td>C</td>\n",
       "    </tr>\n",
       "    <tr>\n",
       "      <th>2</th>\n",
       "      <td>1</td>\n",
       "      <td>3</td>\n",
       "      <td>female</td>\n",
       "      <td>19-30</td>\n",
       "      <td>0</td>\n",
       "      <td>0</td>\n",
       "      <td>7.9250</td>\n",
       "      <td>S</td>\n",
       "    </tr>\n",
       "    <tr>\n",
       "      <th>3</th>\n",
       "      <td>1</td>\n",
       "      <td>1</td>\n",
       "      <td>female</td>\n",
       "      <td>31-45</td>\n",
       "      <td>1</td>\n",
       "      <td>0</td>\n",
       "      <td>53.1000</td>\n",
       "      <td>S</td>\n",
       "    </tr>\n",
       "    <tr>\n",
       "      <th>4</th>\n",
       "      <td>0</td>\n",
       "      <td>3</td>\n",
       "      <td>male</td>\n",
       "      <td>31-45</td>\n",
       "      <td>0</td>\n",
       "      <td>0</td>\n",
       "      <td>8.0500</td>\n",
       "      <td>S</td>\n",
       "    </tr>\n",
       "  </tbody>\n",
       "</table>\n",
       "</div>"
      ],
      "text/plain": [
       "   Survived  Pclass     Sex    Age  SibSp  Parch     Fare Embarked\n",
       "0         0       3    male  19-30      1      0   7.2500        S\n",
       "1         1       1  female  31-45      1      0  71.2833        C\n",
       "2         1       3  female  19-30      0      0   7.9250        S\n",
       "3         1       1  female  31-45      1      0  53.1000        S\n",
       "4         0       3    male  31-45      0      0   8.0500        S"
      ]
     },
     "execution_count": 16,
     "metadata": {},
     "output_type": "execute_result"
    }
   ],
   "source": [
    "# drop the Cabin\n",
    "df_anon = df_anon.drop(['Cabin'], axis=1)\n",
    "df_anon.head()"
   ]
  },
  {
   "cell_type": "markdown",
   "id": "bc9a5986",
   "metadata": {},
   "source": [
    "---"
   ]
  },
  {
   "cell_type": "markdown",
   "id": "0e3dfc42",
   "metadata": {},
   "source": [
    "#### 1.4 Other types of data\n",
    "\n",
    "In our case, dropping the columns was an easy choice and will not harm our machine learning model. However, this can be different depending on our dataset! \n",
    "\n",
    "Consider, for example, a dataset of MRI images that you want to use to learn detecting tumors. Generative AI can reconstruct facial images from these MRIs and thereby identify individuals. [[read more](https://www.diva-portal.org/smash/get/diva2:1359959/FULLTEXT01.pdf)]\n",
    "\n",
    "Even if you choose to reduce the quality of your images, AI is able to reconstruct faces. [[read more](https://arxiv.org/pdf/1702.00783.pdf)]\n",
    "\n",
    "Similarly, recordings (speech) can be used to identify individuals. [[read more](https://openaccess.thecvf.com/content_CVPR_2019/papers/Oh_Speech2Face_Learning_the_Face_Behind_a_Voice_CVPR_2019_paper.pdf)]  \n",
    "\n",
    "**Strategy for audio/visual/text/geospatial data** (in accordance with [this](https://hackmd.io/@eglerean/anonfeb2023) fantastic workshop):\n",
    "- Video\n",
    "    - Delete the video if it's not necessary\n",
    "    - Blur the faces if the video is necessary, e.g., in Python with [deface](https://pypi.org/project/deface/), [OpenFace](http://multicomp.cs.cmu.edu/resources/openface/), [openpose](https://github.com/CMU-Perceptual-Computing-Lab/openpose) or [deepfakes](https://github.com/hukkelas/DeepPrivacy)\n",
    "- Audio (speech)\n",
    "    - Convert to text transcript if the speech is not necessary, e.g., locally with [DeepSpeech](https://deepspeech.readthedocs.io/en/r0.9/?badge=latest)\n",
    "    - Anonymize, e.g., with [lightweight_spkr_anon](https://github.com/sarulab-speech/lightweight_spkr_anon)\n",
    "    - Store preprocessed data, e.g., with [Whisper](https://openai.com/research/whisper)\n",
    "- Text (such as video/speech transcript)\n",
    "    - De-identify your text, e.g., using [presidio](https://github.com/microsoft/presidio), [OpenRedact](https://github.com/openredact), or [CRF NER](https://nlp.stanford.edu/software/CRF-NER.html)\n",
    "    - Specifically for free-text medical records: [MIST](https://mist-deid.sourceforge.net/)\n",
    "- Geospatial data\n",
    "    - [read paper](https://www.sciencedirect.com/science/article/pii/S0198971520302465#f0010)\n",
    "- MRI data\n",
    "    - defacing with [mri_deface](https://surfer.nmr.mgh.harvard.edu/fswiki/mri_deface)\n",
    "    \n",
    "**GUI-Based tools for tabular data:**\n",
    "- [Amnesia](https://amnesia.openaire.eu/amnesia/index.html) (with [documentation](https://amnesia.openaire.eu/about-documentation.html))\n",
    "- [ARX](https://arx.deidentifier.org/) (with [demo](https://www.youtube.com/channel/UCcGAF5nQ_O6ResEF-ivsbVQ/videos))\n",
    "    \n",
    "Whatever you use, be careful with Cloud Services as they may violate the privacy regulations you are under -- check carefully. "
   ]
  },
  {
   "cell_type": "markdown",
   "id": "7f8d763c",
   "metadata": {},
   "source": [
    "---"
   ]
  },
  {
   "cell_type": "markdown",
   "id": "6ea43a95",
   "metadata": {},
   "source": [
    "### 2. Dealing with indirect identifiers\n",
    "\n",
    "<img align=\"left\" width=\"200\" src=\"https://upload.wikimedia.org/wikipedia/en/0/08/Guess_who_game_cover.jpg\" />\n",
    "\n",
    "\n",
    "#### \"Guess Who\" game\n",
    "\n",
    "Individuals can be singled out using only 4 yes/no questions regarding their appearance, e.g., \"Does the character have red hair / white skin / a hat?\"\n",
    "\n",
    "*Similarly, individuals can often be re-identified in datasets using a combination of indirect identifiers.*\n",
    "\n",
    "[Source: [Wikipedia](https://en.wikipedia.org/wiki/Guess_Who%3F)]"
   ]
  },
  {
   "cell_type": "markdown",
   "id": "9c841090",
   "metadata": {},
   "source": [
    "---"
   ]
  },
  {
   "cell_type": "markdown",
   "id": "90a6c85f",
   "metadata": {},
   "source": [
    "#### 2.1 Masking\n",
    "\n",
    "Individuals might still be identifiable due to combinations of columns.\n",
    "For example:"
   ]
  },
  {
   "cell_type": "code",
   "execution_count": 17,
   "id": "7c39bc42",
   "metadata": {},
   "outputs": [
    {
     "data": {
      "text/html": [
       "<div>\n",
       "<style scoped>\n",
       "    .dataframe tbody tr th:only-of-type {\n",
       "        vertical-align: middle;\n",
       "    }\n",
       "\n",
       "    .dataframe tbody tr th {\n",
       "        vertical-align: top;\n",
       "    }\n",
       "\n",
       "    .dataframe thead th {\n",
       "        text-align: right;\n",
       "    }\n",
       "</style>\n",
       "<table border=\"1\" class=\"dataframe\">\n",
       "  <thead>\n",
       "    <tr style=\"text-align: right;\">\n",
       "      <th></th>\n",
       "      <th>Sex</th>\n",
       "      <th>female</th>\n",
       "      <th>male</th>\n",
       "    </tr>\n",
       "    <tr>\n",
       "      <th>Pclass</th>\n",
       "      <th>Embarked</th>\n",
       "      <th></th>\n",
       "      <th></th>\n",
       "    </tr>\n",
       "  </thead>\n",
       "  <tbody>\n",
       "    <tr>\n",
       "      <th rowspan=\"4\" valign=\"top\">1</th>\n",
       "      <th>-1</th>\n",
       "      <td>2</td>\n",
       "      <td>0</td>\n",
       "    </tr>\n",
       "    <tr>\n",
       "      <th>C</th>\n",
       "      <td>43</td>\n",
       "      <td>42</td>\n",
       "    </tr>\n",
       "    <tr>\n",
       "      <th>Q</th>\n",
       "      <td>1</td>\n",
       "      <td>1</td>\n",
       "    </tr>\n",
       "    <tr>\n",
       "      <th>S</th>\n",
       "      <td>48</td>\n",
       "      <td>79</td>\n",
       "    </tr>\n",
       "    <tr>\n",
       "      <th rowspan=\"3\" valign=\"top\">2</th>\n",
       "      <th>C</th>\n",
       "      <td>7</td>\n",
       "      <td>10</td>\n",
       "    </tr>\n",
       "    <tr>\n",
       "      <th>Q</th>\n",
       "      <td>2</td>\n",
       "      <td>1</td>\n",
       "    </tr>\n",
       "    <tr>\n",
       "      <th>S</th>\n",
       "      <td>67</td>\n",
       "      <td>97</td>\n",
       "    </tr>\n",
       "    <tr>\n",
       "      <th rowspan=\"3\" valign=\"top\">3</th>\n",
       "      <th>C</th>\n",
       "      <td>23</td>\n",
       "      <td>43</td>\n",
       "    </tr>\n",
       "    <tr>\n",
       "      <th>Q</th>\n",
       "      <td>33</td>\n",
       "      <td>39</td>\n",
       "    </tr>\n",
       "    <tr>\n",
       "      <th>S</th>\n",
       "      <td>88</td>\n",
       "      <td>265</td>\n",
       "    </tr>\n",
       "  </tbody>\n",
       "</table>\n",
       "</div>"
      ],
      "text/plain": [
       "Sex              female  male\n",
       "Pclass Embarked              \n",
       "1      -1             2     0\n",
       "       C             43    42\n",
       "       Q              1     1\n",
       "       S             48    79\n",
       "2      C              7    10\n",
       "       Q              2     1\n",
       "       S             67    97\n",
       "3      C             23    43\n",
       "       Q             33    39\n",
       "       S             88   265"
      ]
     },
     "execution_count": 17,
     "metadata": {},
     "output_type": "execute_result"
    }
   ],
   "source": [
    "df_anon.groupby(['Pclass', 'Embarked', 'Sex']).size().unstack(fill_value=0)"
   ]
  },
  {
   "cell_type": "markdown",
   "id": "65c3c2e4",
   "metadata": {},
   "source": [
    "One way to deal with this is **Masking**, where we assign different values to identifiers to hinder re-identification. For example, instead of directly advising the embarkation port, we can mask this information:"
   ]
  },
  {
   "cell_type": "code",
   "execution_count": 18,
   "id": "248faefc",
   "metadata": {},
   "outputs": [
    {
     "data": {
      "text/html": [
       "<div>\n",
       "<style scoped>\n",
       "    .dataframe tbody tr th:only-of-type {\n",
       "        vertical-align: middle;\n",
       "    }\n",
       "\n",
       "    .dataframe tbody tr th {\n",
       "        vertical-align: top;\n",
       "    }\n",
       "\n",
       "    .dataframe thead th {\n",
       "        text-align: right;\n",
       "    }\n",
       "</style>\n",
       "<table border=\"1\" class=\"dataframe\">\n",
       "  <thead>\n",
       "    <tr style=\"text-align: right;\">\n",
       "      <th></th>\n",
       "      <th>Survived</th>\n",
       "      <th>Pclass</th>\n",
       "      <th>Sex</th>\n",
       "      <th>Age</th>\n",
       "      <th>SibSp</th>\n",
       "      <th>Parch</th>\n",
       "      <th>Fare</th>\n",
       "      <th>Embarked</th>\n",
       "    </tr>\n",
       "  </thead>\n",
       "  <tbody>\n",
       "    <tr>\n",
       "      <th>0</th>\n",
       "      <td>0</td>\n",
       "      <td>3</td>\n",
       "      <td>male</td>\n",
       "      <td>19-30</td>\n",
       "      <td>1</td>\n",
       "      <td>0</td>\n",
       "      <td>7.2500</td>\n",
       "      <td>3</td>\n",
       "    </tr>\n",
       "    <tr>\n",
       "      <th>1</th>\n",
       "      <td>1</td>\n",
       "      <td>1</td>\n",
       "      <td>female</td>\n",
       "      <td>31-45</td>\n",
       "      <td>1</td>\n",
       "      <td>0</td>\n",
       "      <td>71.2833</td>\n",
       "      <td>1</td>\n",
       "    </tr>\n",
       "    <tr>\n",
       "      <th>2</th>\n",
       "      <td>1</td>\n",
       "      <td>3</td>\n",
       "      <td>female</td>\n",
       "      <td>19-30</td>\n",
       "      <td>0</td>\n",
       "      <td>0</td>\n",
       "      <td>7.9250</td>\n",
       "      <td>3</td>\n",
       "    </tr>\n",
       "    <tr>\n",
       "      <th>3</th>\n",
       "      <td>1</td>\n",
       "      <td>1</td>\n",
       "      <td>female</td>\n",
       "      <td>31-45</td>\n",
       "      <td>1</td>\n",
       "      <td>0</td>\n",
       "      <td>53.1000</td>\n",
       "      <td>3</td>\n",
       "    </tr>\n",
       "    <tr>\n",
       "      <th>4</th>\n",
       "      <td>0</td>\n",
       "      <td>3</td>\n",
       "      <td>male</td>\n",
       "      <td>31-45</td>\n",
       "      <td>0</td>\n",
       "      <td>0</td>\n",
       "      <td>8.0500</td>\n",
       "      <td>3</td>\n",
       "    </tr>\n",
       "  </tbody>\n",
       "</table>\n",
       "</div>"
      ],
      "text/plain": [
       "   Survived  Pclass     Sex    Age  SibSp  Parch     Fare  Embarked\n",
       "0         0       3    male  19-30      1      0   7.2500         3\n",
       "1         1       1  female  31-45      1      0  71.2833         1\n",
       "2         1       3  female  19-30      0      0   7.9250         3\n",
       "3         1       1  female  31-45      1      0  53.1000         3\n",
       "4         0       3    male  31-45      0      0   8.0500         3"
      ]
     },
     "execution_count": 18,
     "metadata": {},
     "output_type": "execute_result"
    }
   ],
   "source": [
    "# Masking the 'Embarked' column with made-up port names\n",
    "masking_dictionary = {'C': 1, 'Q': 2, 'S': 3}\n",
    "df_anon = df_anon.replace({'Embarked': masking_dictionary})\n",
    "df_anon.head()"
   ]
  },
  {
   "cell_type": "markdown",
   "id": "50893cf5",
   "metadata": {},
   "source": [
    "*Be careful with masking!* Re-mapping of the original name is frequently possible. In the 'Embarkation' example, consider the distribution of ticket classes and ports:"
   ]
  },
  {
   "cell_type": "code",
   "execution_count": 19,
   "id": "090b201d",
   "metadata": {},
   "outputs": [
    {
     "data": {
      "text/html": [
       "<div>\n",
       "<style scoped>\n",
       "    .dataframe tbody tr th:only-of-type {\n",
       "        vertical-align: middle;\n",
       "    }\n",
       "\n",
       "    .dataframe tbody tr th {\n",
       "        vertical-align: top;\n",
       "    }\n",
       "\n",
       "    .dataframe thead th {\n",
       "        text-align: right;\n",
       "    }\n",
       "</style>\n",
       "<table border=\"1\" class=\"dataframe\">\n",
       "  <thead>\n",
       "    <tr style=\"text-align: right;\">\n",
       "      <th>Embarked</th>\n",
       "      <th>-1</th>\n",
       "      <th>1</th>\n",
       "      <th>2</th>\n",
       "      <th>3</th>\n",
       "    </tr>\n",
       "    <tr>\n",
       "      <th>Pclass</th>\n",
       "      <th></th>\n",
       "      <th></th>\n",
       "      <th></th>\n",
       "      <th></th>\n",
       "    </tr>\n",
       "  </thead>\n",
       "  <tbody>\n",
       "    <tr>\n",
       "      <th>1</th>\n",
       "      <td>2</td>\n",
       "      <td>85</td>\n",
       "      <td>2</td>\n",
       "      <td>127</td>\n",
       "    </tr>\n",
       "    <tr>\n",
       "      <th>2</th>\n",
       "      <td>0</td>\n",
       "      <td>17</td>\n",
       "      <td>3</td>\n",
       "      <td>164</td>\n",
       "    </tr>\n",
       "    <tr>\n",
       "      <th>3</th>\n",
       "      <td>0</td>\n",
       "      <td>66</td>\n",
       "      <td>72</td>\n",
       "      <td>353</td>\n",
       "    </tr>\n",
       "  </tbody>\n",
       "</table>\n",
       "</div>"
      ],
      "text/plain": [
       "Embarked  -1   1   2    3\n",
       "Pclass                   \n",
       "1          2  85   2  127\n",
       "2          0  17   3  164\n",
       "3          0  66  72  353"
      ]
     },
     "execution_count": 19,
     "metadata": {},
     "output_type": "execute_result"
    }
   ],
   "source": [
    "df_anon.groupby(['Pclass', 'Embarked']).size().unstack(fill_value=0)"
   ]
  },
  {
   "cell_type": "markdown",
   "id": "2cec08a0",
   "metadata": {},
   "source": [
    "A skilled reader might know that the biggest crowd embarked in Southampton and that upper-class travelers did not come from Queenstown. With this knowledge, they can remap the masked values to the original ones. Meanwhile, interpreting the dataset becomes more difficult."
   ]
  },
  {
   "cell_type": "markdown",
   "id": "ad6e34bb",
   "metadata": {},
   "source": [
    "---"
   ]
  },
  {
   "cell_type": "markdown",
   "id": "51448684",
   "metadata": {},
   "source": [
    "#### 2.2 Deleting identifiable data\n",
    "\n",
    "In some cases, it makes sense to delete identifiable data if only few entries are affected. This is a reasonable approach in machine learning since learned models will likely discard these singletons as noise. If these cases are important to your application, you should not delete them."
   ]
  },
  {
   "cell_type": "markdown",
   "id": "1ff6f0cd",
   "metadata": {},
   "source": [
    "---"
   ]
  },
  {
   "cell_type": "markdown",
   "id": "483e021c",
   "metadata": {},
   "source": [
    "#### 2.3 Testing privacy: Manually\n",
    "\n",
    "You will need to test repeatedly, if your anonymization is sufficient or if you need to do more. \n",
    "\n",
    "One option (if you have a small number of columns) is to test manually:"
   ]
  },
  {
   "cell_type": "code",
   "execution_count": 20,
   "id": "e4403544",
   "metadata": {},
   "outputs": [
    {
     "data": {
      "text/plain": [
       "<Figure size 200x200 with 0 Axes>"
      ]
     },
     "metadata": {},
     "output_type": "display_data"
    },
    {
     "data": {
      "image/png": "[encoded data removed]",
      "text/plain": [
       "<Figure size 948.611x500 with 6 Axes>"
      ]
     },
     "metadata": {},
     "output_type": "display_data"
    }
   ],
   "source": [
    "plt.figure(figsize=(2, 2))\n",
    "g = sns.catplot(data=df_anon, y='Age', col='Pclass', row='Sex', kind='count', height=2.5, aspect=1.25)\n",
    "\n",
    "# add bar annotations\n",
    "for ax in g.axes.flat:\n",
    "    for c in ax.containers:\n",
    "        labels = [f'{v.get_width():.0f}' for v in c]\n",
    "        ax.bar_label(c, labels=labels, label_type='edge')\n",
    "plt.show()"
   ]
  },
  {
   "cell_type": "markdown",
   "id": "cbbdb991",
   "metadata": {},
   "source": [
    "A more automated option is to test using the [pycanon](https://pycanon.readthedocs.io/en/stable/intro.html) package. [[read paper](https://www.nature.com/articles/s41597-022-01894-2)]"
   ]
  },
  {
   "cell_type": "markdown",
   "id": "7d3947ea",
   "metadata": {},
   "source": [
    "**k-Anonymity:**\n",
    "\n",
    "A *quasi-identifier* is an attribute whose release must be controlled because it may, in combination with others, lead to the identification of an individual. \n",
    "\n",
    "*k-Anonymity* is satisfied if and only if every possible combination of values of quasi-identifiers has at least *k* records in the dataset."
   ]
  },
  {
   "cell_type": "code",
   "execution_count": 21,
   "id": "ece005df",
   "metadata": {
    "scrolled": true
   },
   "outputs": [
    {
     "data": {
      "text/plain": [
       "2"
      ]
     },
     "execution_count": 21,
     "metadata": {},
     "output_type": "execute_result"
    }
   ],
   "source": [
    "quasi_identifiers = ['Pclass', 'Sex', 'Age']\n",
    "k = anonymity.k_anonymity(df_anon, quasi_identifiers)\n",
    "k"
   ]
  },
  {
   "cell_type": "markdown",
   "id": "f8675f43",
   "metadata": {},
   "source": [
    "We can see that the definition of k-Anonymity leads to the same result as the above manual analysis, not taking any of the other columns into account. However, when adding additional columns, the k-Anonymity drops to 1. "
   ]
  },
  {
   "cell_type": "code",
   "execution_count": 22,
   "id": "e7eef2db",
   "metadata": {},
   "outputs": [
    {
     "data": {
      "text/plain": [
       "1"
      ]
     },
     "execution_count": 22,
     "metadata": {},
     "output_type": "execute_result"
    }
   ],
   "source": [
    "quasi_identifiers = list(df_anon.columns)\n",
    "k = anonymity.k_anonymity(df_anon, quasi_identifiers)\n",
    "k"
   ]
  },
  {
   "cell_type": "markdown",
   "id": "92b9dc8d",
   "metadata": {},
   "source": [
    "---"
   ]
  },
  {
   "cell_type": "markdown",
   "id": "dfaf52e7",
   "metadata": {},
   "source": [
    "#### 2.4 PCA-based Privacy\n",
    "\n",
    "One popular approach to enhance privacy while retaining crucial information for machine learning is to transform the dataset using [Principal Component Analysis (PCA)](https://en.wikipedia.org/wiki/Principal_component_analysis). [[read more](https://blogs.ed.ac.uk/datasciencecdt/2020/03/31/using-pca-to-preserve-privacy/)]\n",
    "\n",
    "PCA is a dimensionality reduction technique used to transform high-dimensional data into a lower-dimensional space while preserving as much variance as possible. It identifies the principal components, which are orthogonal linear combinations of the original features, allowing for simplified data representation and visualization. \n",
    "\n",
    "By representing the data in a more compact form, PCA can help mitigate the risk of re-identification and protect sensitive information, making it more challenging for adversaries to infer individual identities from the transformed data. Additionally, PCA does not rely on individual feature values, making it harder for attackers to reconstruct the original data and preserve the privacy of individuals."
   ]
  },
  {
   "cell_type": "code",
   "execution_count": 23,
   "id": "517d8752",
   "metadata": {},
   "outputs": [
    {
     "data": {
      "text/html": [
       "<div>\n",
       "<style scoped>\n",
       "    .dataframe tbody tr th:only-of-type {\n",
       "        vertical-align: middle;\n",
       "    }\n",
       "\n",
       "    .dataframe tbody tr th {\n",
       "        vertical-align: top;\n",
       "    }\n",
       "\n",
       "    .dataframe thead th {\n",
       "        text-align: right;\n",
       "    }\n",
       "</style>\n",
       "<table border=\"1\" class=\"dataframe\">\n",
       "  <thead>\n",
       "    <tr style=\"text-align: right;\">\n",
       "      <th></th>\n",
       "      <th>Survived</th>\n",
       "      <th>Pclass</th>\n",
       "      <th>Sex</th>\n",
       "      <th>Age</th>\n",
       "      <th>SibSp+Parch+Fare+Embarked</th>\n",
       "    </tr>\n",
       "  </thead>\n",
       "  <tbody>\n",
       "    <tr>\n",
       "      <th>0</th>\n",
       "      <td>0</td>\n",
       "      <td>3</td>\n",
       "      <td>male</td>\n",
       "      <td>19-30</td>\n",
       "      <td>-24.955143</td>\n",
       "    </tr>\n",
       "    <tr>\n",
       "      <th>1</th>\n",
       "      <td>1</td>\n",
       "      <td>1</td>\n",
       "      <td>female</td>\n",
       "      <td>31-45</td>\n",
       "      <td>39.084417</td>\n",
       "    </tr>\n",
       "    <tr>\n",
       "      <th>2</th>\n",
       "      <td>1</td>\n",
       "      <td>3</td>\n",
       "      <td>female</td>\n",
       "      <td>19-30</td>\n",
       "      <td>-24.283701</td>\n",
       "    </tr>\n",
       "    <tr>\n",
       "      <th>3</th>\n",
       "      <td>1</td>\n",
       "      <td>1</td>\n",
       "      <td>female</td>\n",
       "      <td>31-45</td>\n",
       "      <td>20.893963</td>\n",
       "    </tr>\n",
       "    <tr>\n",
       "      <th>4</th>\n",
       "      <td>0</td>\n",
       "      <td>3</td>\n",
       "      <td>male</td>\n",
       "      <td>31-45</td>\n",
       "      <td>-24.158704</td>\n",
       "    </tr>\n",
       "  </tbody>\n",
       "</table>\n",
       "</div>"
      ],
      "text/plain": [
       "   Survived  Pclass     Sex    Age  SibSp+Parch+Fare+Embarked\n",
       "0         0       3    male  19-30                 -24.955143\n",
       "1         1       1  female  31-45                  39.084417\n",
       "2         1       3  female  19-30                 -24.283701\n",
       "3         1       1  female  31-45                  20.893963\n",
       "4         0       3    male  31-45                 -24.158704"
      ]
     },
     "execution_count": 23,
     "metadata": {},
     "output_type": "execute_result"
    }
   ],
   "source": [
    "# Define columns we'd like to replace using PCA\n",
    "columns_to_replace_with_pca = ['SibSp', 'Parch', 'Fare', 'Embarked']\n",
    "\n",
    "# initialize pca object. n_components=0.95 chooses the number of components \n",
    "# such that at least 99% of the information is captured despite the dimensionality \n",
    "# reduction\n",
    "pca = PCA(n_components=0.99, svd_solver='full')\n",
    "transformed_columns = pca.fit_transform(df_anon[columns_to_replace_with_pca])\n",
    "\n",
    "# merge new column\n",
    "df_anon['SibSp+Parch+Fare+Embarked'] = transformed_columns\n",
    "\n",
    "# drop replaced columns\n",
    "df_anon = df_anon.drop(columns_to_replace_with_pca, axis=1)\n",
    "\n",
    "df_anon.head()"
   ]
  },
  {
   "cell_type": "markdown",
   "id": "9034eb67",
   "metadata": {},
   "source": [
    "**Note:** From a machine learning perspective, the PCA transformation has captured most of the information that was contained in the columns -- no major problem. However, the dataset is substantially less interpretable than before. You will need to decide if this is worth it based on your application.\n",
    "\n",
    "Except for PCA, researchers have also used other methods to transform features in a smilar fashion, including clustering, other dimensionality reduction techniques, and transformation into embedding space."
   ]
  },
  {
   "cell_type": "markdown",
   "id": "5f877170",
   "metadata": {},
   "source": [
    "---"
   ]
  },
  {
   "cell_type": "markdown",
   "id": "a081d164",
   "metadata": {},
   "source": [
    "#### 2.5 Differential Privacy\n",
    "\n",
    "[Differential privacy](https://link.springer.com/chapter/10.1007/11787006_1) is a framework for protecting the privacy of individuals in datasets while allowing useful insights to be extracted from the data. This makes it an ideal pre-processing step for machine learning purposes, and it is in fact the state-of-the-art. \n",
    "\n",
    "> Roughly, an algorithm is differentially private if an observer seeing its output cannot tell whether a particular individual's information was used in the computation. [[Source](https://en.wikipedia.org/wiki/Differential_privacy#cite_note-hilton08-1)]\n",
    "\n",
    "Differential privacy achieves this by adding carefully calibrated noise or randomness to the data, ensuring that the statistical properties of the data are preserved while obscuring the contribution of any specific individual. \n",
    "\n",
    "Differential privacy also involves concepts such as privacy budget, which quantifies the amount of privacy loss that can occur over multiple queries or analyses, and compositionality, which ensures that the privacy guarantees hold even when multiple analyses or queries are performed on the same dataset.\n",
    "\n",
    "There are multiple packages in Python that implement differential privacy:\n",
    "- [PyDP](https://pydp.readthedocs.io/en/latest/index.html) is a Python wrapper for Google's [Differential Privacy](https://github.com/google/differential-privacy) project\n",
    "- IBM's [Diffprivlib](https://github.com/IBM/differential-privacy-library) with documentation [[here](https://diffprivlib.readthedocs.io/en/latest/index.html)], which offers algorithms similar to sklearn but with differential privacy. We will use this package below in a comparison.\n",
    "\n",
    "The main advantage of Differential Privacy is that it provides **provable privacy guarantees**."
   ]
  },
  {
   "cell_type": "markdown",
   "id": "234e1b79",
   "metadata": {},
   "source": [
    "---"
   ]
  },
  {
   "cell_type": "markdown",
   "id": "0d09fe4f",
   "metadata": {},
   "source": [
    "## Privacy vs. Accuracy Trade-Off\n",
    "\n",
    "There is a delicate balance between preserving individual privacy and maintaining the utility or accuracy of data analysis or machine learning models. De-identifying personal data is an iterative approach that consists of a series of decisions effectively trading accuracy for privacy. \n",
    "\n",
    "Let's find out what price we had to pay for our anonymization."
   ]
  },
  {
   "cell_type": "markdown",
   "id": "e24381a5",
   "metadata": {},
   "source": [
    "---"
   ]
  },
  {
   "cell_type": "markdown",
   "id": "7a9e0e4e",
   "metadata": {},
   "source": [
    "### Step 1: Numeric format\n",
    "\n",
    "Since scikit-learn mostly cannot deal with categorical data, we convert the original and anonymized dataset into numeric format. This is a technical pre-processing step that does not lose any information -- for each column, we convert the first unique value we find to 0, the second one to 1, etc."
   ]
  },
  {
   "cell_type": "code",
   "execution_count": 24,
   "id": "36fe4c48",
   "metadata": {},
   "outputs": [
    {
     "data": {
      "text/html": [
       "<div>\n",
       "<style scoped>\n",
       "    .dataframe tbody tr th:only-of-type {\n",
       "        vertical-align: middle;\n",
       "    }\n",
       "\n",
       "    .dataframe tbody tr th {\n",
       "        vertical-align: top;\n",
       "    }\n",
       "\n",
       "    .dataframe thead th {\n",
       "        text-align: right;\n",
       "    }\n",
       "</style>\n",
       "<table border=\"1\" class=\"dataframe\">\n",
       "  <thead>\n",
       "    <tr style=\"text-align: right;\">\n",
       "      <th></th>\n",
       "      <th>Survived</th>\n",
       "      <th>Pclass</th>\n",
       "      <th>Sex</th>\n",
       "      <th>Age</th>\n",
       "      <th>SibSp</th>\n",
       "      <th>Parch</th>\n",
       "      <th>Fare</th>\n",
       "      <th>Embarked</th>\n",
       "    </tr>\n",
       "  </thead>\n",
       "  <tbody>\n",
       "    <tr>\n",
       "      <th>0</th>\n",
       "      <td>0</td>\n",
       "      <td>3</td>\n",
       "      <td>0</td>\n",
       "      <td>22.0</td>\n",
       "      <td>1</td>\n",
       "      <td>0</td>\n",
       "      <td>7.2500</td>\n",
       "      <td>0</td>\n",
       "    </tr>\n",
       "    <tr>\n",
       "      <th>1</th>\n",
       "      <td>1</td>\n",
       "      <td>1</td>\n",
       "      <td>1</td>\n",
       "      <td>38.0</td>\n",
       "      <td>1</td>\n",
       "      <td>0</td>\n",
       "      <td>71.2833</td>\n",
       "      <td>1</td>\n",
       "    </tr>\n",
       "    <tr>\n",
       "      <th>2</th>\n",
       "      <td>1</td>\n",
       "      <td>3</td>\n",
       "      <td>1</td>\n",
       "      <td>26.0</td>\n",
       "      <td>0</td>\n",
       "      <td>0</td>\n",
       "      <td>7.9250</td>\n",
       "      <td>0</td>\n",
       "    </tr>\n",
       "    <tr>\n",
       "      <th>3</th>\n",
       "      <td>1</td>\n",
       "      <td>1</td>\n",
       "      <td>1</td>\n",
       "      <td>35.0</td>\n",
       "      <td>1</td>\n",
       "      <td>0</td>\n",
       "      <td>53.1000</td>\n",
       "      <td>0</td>\n",
       "    </tr>\n",
       "    <tr>\n",
       "      <th>4</th>\n",
       "      <td>0</td>\n",
       "      <td>3</td>\n",
       "      <td>0</td>\n",
       "      <td>35.0</td>\n",
       "      <td>0</td>\n",
       "      <td>0</td>\n",
       "      <td>8.0500</td>\n",
       "      <td>0</td>\n",
       "    </tr>\n",
       "  </tbody>\n",
       "</table>\n",
       "</div>"
      ],
      "text/plain": [
       "   Survived  Pclass  Sex   Age  SibSp  Parch     Fare  Embarked\n",
       "0         0       3    0  22.0      1      0   7.2500         0\n",
       "1         1       1    1  38.0      1      0  71.2833         1\n",
       "2         1       3    1  26.0      0      0   7.9250         0\n",
       "3         1       1    1  35.0      1      0  53.1000         0\n",
       "4         0       3    0  35.0      0      0   8.0500         0"
      ]
     },
     "execution_count": 24,
     "metadata": {},
     "output_type": "execute_result"
    }
   ],
   "source": [
    "df_num = df.copy()\n",
    "# drope the unique identifiers since ML will not be able to learn from them\n",
    "df_num = df_num.drop(['PassengerId', 'Name', 'Ticket', 'Cabin'], axis=1)\n",
    "\n",
    "# get all non-numeric columns\n",
    "non_numeric_columns = df_num.select_dtypes(exclude=['number']).columns.tolist()\n",
    "\n",
    "# convert to numeric columns:\n",
    "#   0 = the first unique value, 1 = the second unique value, etc.\n",
    "for column in non_numeric_columns:\n",
    "    df_num[column] = pd.factorize(df_num[column])[0]\n",
    "    \n",
    "df_num.head()"
   ]
  },
  {
   "cell_type": "code",
   "execution_count": 25,
   "id": "ef4e3cd0",
   "metadata": {
    "scrolled": true
   },
   "outputs": [
    {
     "data": {
      "text/html": [
       "<div>\n",
       "<style scoped>\n",
       "    .dataframe tbody tr th:only-of-type {\n",
       "        vertical-align: middle;\n",
       "    }\n",
       "\n",
       "    .dataframe tbody tr th {\n",
       "        vertical-align: top;\n",
       "    }\n",
       "\n",
       "    .dataframe thead th {\n",
       "        text-align: right;\n",
       "    }\n",
       "</style>\n",
       "<table border=\"1\" class=\"dataframe\">\n",
       "  <thead>\n",
       "    <tr style=\"text-align: right;\">\n",
       "      <th></th>\n",
       "      <th>Survived</th>\n",
       "      <th>Pclass</th>\n",
       "      <th>Sex</th>\n",
       "      <th>Age</th>\n",
       "      <th>SibSp+Parch+Fare+Embarked</th>\n",
       "    </tr>\n",
       "  </thead>\n",
       "  <tbody>\n",
       "    <tr>\n",
       "      <th>0</th>\n",
       "      <td>0</td>\n",
       "      <td>3</td>\n",
       "      <td>0</td>\n",
       "      <td>0</td>\n",
       "      <td>-24.955143</td>\n",
       "    </tr>\n",
       "    <tr>\n",
       "      <th>1</th>\n",
       "      <td>1</td>\n",
       "      <td>1</td>\n",
       "      <td>1</td>\n",
       "      <td>1</td>\n",
       "      <td>39.084417</td>\n",
       "    </tr>\n",
       "    <tr>\n",
       "      <th>2</th>\n",
       "      <td>1</td>\n",
       "      <td>3</td>\n",
       "      <td>1</td>\n",
       "      <td>0</td>\n",
       "      <td>-24.283701</td>\n",
       "    </tr>\n",
       "    <tr>\n",
       "      <th>3</th>\n",
       "      <td>1</td>\n",
       "      <td>1</td>\n",
       "      <td>1</td>\n",
       "      <td>1</td>\n",
       "      <td>20.893963</td>\n",
       "    </tr>\n",
       "    <tr>\n",
       "      <th>4</th>\n",
       "      <td>0</td>\n",
       "      <td>3</td>\n",
       "      <td>0</td>\n",
       "      <td>1</td>\n",
       "      <td>-24.158704</td>\n",
       "    </tr>\n",
       "  </tbody>\n",
       "</table>\n",
       "</div>"
      ],
      "text/plain": [
       "   Survived  Pclass  Sex  Age  SibSp+Parch+Fare+Embarked\n",
       "0         0       3    0    0                 -24.955143\n",
       "1         1       1    1    1                  39.084417\n",
       "2         1       3    1    0                 -24.283701\n",
       "3         1       1    1    1                  20.893963\n",
       "4         0       3    0    1                 -24.158704"
      ]
     },
     "execution_count": 25,
     "metadata": {},
     "output_type": "execute_result"
    }
   ],
   "source": [
    "df_anon_num = df_anon.copy()\n",
    "\n",
    "# get all non-numeric columns\n",
    "non_numeric_columns = df_anon_num.select_dtypes(exclude=['number']).columns.tolist()\n",
    "\n",
    "# convert to numeric columns:\n",
    "#   0 = the first unique value, 1 = the second unique value, etc.\n",
    "for column in non_numeric_columns:\n",
    "    df_anon_num[column] = pd.factorize(df_anon_num[column])[0]\n",
    "    \n",
    "df_anon_num.head()"
   ]
  },
  {
   "cell_type": "markdown",
   "id": "ecb5ae72",
   "metadata": {},
   "source": [
    "---"
   ]
  },
  {
   "cell_type": "markdown",
   "id": "137423aa",
   "metadata": {},
   "source": [
    "### Step 2: Training/Test split and Training\n",
    "\n",
    "As a second step, we split both datasets consistently into training and test set. We make sure to create exactly the same splits for a fair comparison."
   ]
  },
  {
   "cell_type": "code",
   "execution_count": 26,
   "id": "6ea8c5e6",
   "metadata": {},
   "outputs": [],
   "source": [
    "def run_test(df, kf, clf, param_grid):\n",
    "    accuracies = []\n",
    "\n",
    "    for i, (train_index, test_index) in enumerate(kf.split(range(len(df)))):\n",
    "\n",
    "        X_tr = df.loc[:, df.columns != 'Survived'].drop(test_index)\n",
    "        y_tr = df['Survived'].drop(test_index)\n",
    "        X_te = df.loc[:, df.columns != 'Survived'].drop(train_index)\n",
    "        y_te = df['Survived'].drop(train_index)\n",
    "        \n",
    "        grid_search = GridSearchCV(estimator=clf(), param_grid=param_grid, cv=5, n_jobs=-1)\n",
    "        grid_search.fit(X_tr, y_tr)\n",
    "        \n",
    "        clf_best = clf(**grid_search.best_params_)\n",
    "        clf_best.fit(X_tr, y_tr)\n",
    "        acc = clf_best.score(X_te, y_te)\n",
    "        accuracies.append(acc)\n",
    "        print(acc)\n",
    "    print('Average:', np.average(accuracies), '+/-', np.std(accuracies))"
   ]
  },
  {
   "cell_type": "code",
   "execution_count": 27,
   "id": "d716cb09",
   "metadata": {},
   "outputs": [
    {
     "name": "stdout",
     "output_type": "stream",
     "text": [
      "Accuracy on the original dataset:\n",
      "==========\n",
      "0.8379888268156425\n",
      "0.8258426966292135\n",
      "0.8033707865168539\n",
      "0.7528089887640449\n",
      "0.8370786516853933\n",
      "Average: 0.8114179900822297 +/- 0.0318506627822089\n",
      "\n",
      "Accuracy on the manually anonymized dataset:\n",
      "==========\n",
      "0.8268156424581006\n",
      "0.8033707865168539\n",
      "0.8033707865168539\n",
      "0.7696629213483146\n",
      "0.848314606741573\n",
      "Average: 0.8103069487163392 +/- 0.02632594420122576\n",
      "\n",
      "Accuracy with differential privacy:\n",
      "==========\n",
      "0.770949720670391\n",
      "0.7528089887640449\n",
      "0.7696629213483146\n",
      "0.7640449438202247\n",
      "0.7921348314606742\n",
      "Average: 0.76992028121273 +/- 0.012821295887354275\n"
     ]
    }
   ],
   "source": [
    "kf = KFold(n_splits=5, random_state=1234, shuffle=True)\n",
    "clf = RandomForestClassifier\n",
    "param_grid = {\n",
    "    'n_estimators': [10, 20, 30, 50, 100],\n",
    "    'max_depth': [5, 10, 20]\n",
    "}\n",
    "\n",
    "print('Accuracy on the original dataset:\\n==========')\n",
    "run_test(df_num, kf, clf, param_grid)\n",
    "\n",
    "print('\\nAccuracy on the manually anonymized dataset:\\n==========')\n",
    "run_test(df_anon_num, kf, clf, param_grid)\n",
    "\n",
    "clf = RandomForestClassifier_dp\n",
    "param_grid = {\n",
    "    'n_estimators': [10, 20, 30, 50, 100],\n",
    "    'max_depth': [5]  # we hardcode the max_depth here to speed up the calculations.\n",
    "                      # This is not a fair comparison!! If you run this test in a real\n",
    "                      # application, make sure to use the same parameter range!\n",
    "}\n",
    "print('\\nAccuracy with differential privacy:\\n==========')\n",
    "run_test(df_num, kf, clf, param_grid)"
   ]
  },
  {
   "cell_type": "markdown",
   "id": "31ee4d93",
   "metadata": {},
   "source": [
    "In conclusion, we observe that there is a price to pay for privacy. We got lucky with our manual anonymization approach since this is a rather simple dataset, but we cannot expect this to always be the case in practice. \n",
    "\n",
    "Differential privacy, on the other hand, comes with privacy guarantees and is therefore recommended!"
   ]
  },
  {
   "cell_type": "markdown",
   "id": "9a305a04",
   "metadata": {},
   "source": [
    "---"
   ]
  },
  {
   "cell_type": "markdown",
   "id": "7dbe0d95",
   "metadata": {},
   "source": [
    "## Take Home Message\n",
    "\n",
    "![Image](https://betterimagesofai.org/ImagesAI/jamillah-knowles_we-and-ai_ivory-tower-ai-2_3337x2434.jpg?nf_resize=fit&w=640&q=75)\n",
    "[**Source:** <span><a href=\"www.jemimahknightstudio.com/work/ai\">Jamillah Knowles</a> & <a href=\"undefined\">We and AI</a> / <a href=\"https://www.betterimagesofai.org\">Better Images of AI</a> / People and Ivory Tower AI 2 / <a href=\"https://creativecommons.org/licenses/by/4.0/\">Licenced by CC-BY 4.0</a></span>]\n",
    "\n",
    "- Leaking personal data can have severe consequences.\n",
    "- Collecting personal data is tricky and needs thorough planning. Gather only what you need for a well-defined purpose, make sure to get the participants permission, and store the data safely. It is your responsibility to keep it safe and obey the appropriate laws.\n",
    "- Data anonymization, if perfect (which is hard to achieve), frees you of personal data protection obligations, but not of your standard of ethics. \n",
    "- There is no one-fits-all procedure to anonymize data -- you have to choose based on the use case.\n",
    "- It helps to try and re-identify data to find problems with the anonymization (and then fix them).\n",
    "- There is a trade-off between privacy and accuracy. Your model is most accurate with fully visible data (-> 0 privacy) whereas privacy is maximized when the data is simply deleted (-> 0 accuracy). "
   ]
  },
  {
   "cell_type": "markdown",
   "id": "5f7701ac",
   "metadata": {},
   "source": [
    "---"
   ]
  },
  {
   "cell_type": "markdown",
   "id": "93210bdc",
   "metadata": {},
   "source": [
    "## More practice?\n",
    "\n",
    "If you are keen to practice further, have a look at the following datasets on Kaggle:\n",
    "- [2023 Celebrity Net Worth](https://www.kaggle.com/datasets/monkeybusiness7/2023-celebrity-net-worth) \n",
    "- [Animal Crossing Villagers](https://www.kaggle.com/datasets/jessicali9530/animal-crossing-new-horizons-nookplaza-dataset?resource=download&select=villagers.csv) (make sure to download villagers.csv, not the entire catalog)"
   ]
  },
  {
   "cell_type": "markdown",
   "id": "05fcd668",
   "metadata": {},
   "source": [
    "---"
   ]
  },
  {
   "cell_type": "markdown",
   "id": "13df044a",
   "metadata": {},
   "source": [
    "## Readings\n",
    "\n",
    "- A case study of anonymization of medical surveys [[link](https://chato.cl/papers/gentili_hajian_castillo_2017_anonymization_medical_survey_data_privacy.pdf)]\n",
    "- Diffprivlib (IBM Differential Privacy package) paper outlining the features contained in the package [[link](https://arxiv.org/abs/1907.02444)]\n",
    "- A fantastic review of privacy attacks with a focus on machine learning [[link](https://dl.acm.org/doi/10.1145/3624010)]"
   ]
  }
 ],
 "metadata": {
  "kernelspec": {
   "display_name": "Python [conda env:COMPSCI714]",
   "language": "python",
   "name": "conda-env-COMPSCI714-py"
  },
  "language_info": {
   "codemirror_mode": {
    "name": "ipython",
    "version": 3
   },
   "file_extension": ".py",
   "mimetype": "text/x-python",
   "name": "python",
   "nbconvert_exporter": "python",
   "pygments_lexer": "ipython3",
   "version": "3.12.9"
  }
 },
 "nbformat": 4,
 "nbformat_minor": 5
}
